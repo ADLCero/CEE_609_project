{
 "cells": [
  {
   "cell_type": "markdown",
   "id": "dfc9e2a7",
   "metadata": {},
   "source": [
    "# Downloading discharge data from USGS\n",
    "\n",
    "Using the dataRetrieval package\n",
    "\n",
    "Reference: https://github.com/USGS-python/dataretrieval\n",
    "\n",
    "\n",
    "\n",
    "\n",
    "\n",
    "**This requires the installing the `dataretrieval` package through the following options:**\n",
    "\n",
    "`$ python3 -m pip install -U dataretrieval`\n",
    "\n",
    "OR using the latest version of the code at:\n",
    "\n",
    "`python3 -m pip install -U git+git://github.com/USGS-python/dataretrieval.git`\n",
    "\n"
   ]
  },
  {
   "cell_type": "code",
   "execution_count": 3,
   "id": "273f140d",
   "metadata": {},
   "outputs": [],
   "source": [
    "# Import the functions for downloading data from NWIS\n",
    "\n",
    "import dataretrieval.nwis as nwis"
   ]
  },
  {
   "cell_type": "code",
   "execution_count": null,
   "id": "51568181",
   "metadata": {},
   "outputs": [],
   "source": [
    "# specify the USGS site code for which we want data.\n",
    "site = '03339000'\n",
    "\n",
    "\n",
    "# get instantaneous values (iv)\n",
    "df = nwis.get_record(sites=site, service='iv', start='2017-12-31', end='2018-01-01')\n",
    "\n",
    "# get water quality samples (qwdata)\n",
    "df2 = nwis.get_record(sites=site, service='qwdata', start='2017-12-31', end='2018-01-01')\n",
    "\n",
    "# get basic info about the site\n",
    "df3 = nwis.get_record(sites=site, service='site')"
   ]
  }
 ],
 "metadata": {
  "kernelspec": {
   "display_name": "Python 3 (ipykernel)",
   "language": "python",
   "name": "python3"
  },
  "language_info": {
   "codemirror_mode": {
    "name": "ipython",
    "version": 3
   },
   "file_extension": ".py",
   "mimetype": "text/x-python",
   "name": "python",
   "nbconvert_exporter": "python",
   "pygments_lexer": "ipython3",
   "version": "3.9.13"
  }
 },
 "nbformat": 4,
 "nbformat_minor": 5
}
